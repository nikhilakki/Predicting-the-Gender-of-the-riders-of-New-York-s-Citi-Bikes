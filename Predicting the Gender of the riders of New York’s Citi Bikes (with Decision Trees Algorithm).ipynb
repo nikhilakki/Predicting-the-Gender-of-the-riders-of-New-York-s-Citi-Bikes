{
 "cells": [
  {
   "cell_type": "markdown",
   "metadata": {},
   "source": [
    "```python\n",
    "# '''\n",
    "# Date - 17th - 25th July 2017\n",
    "# Title - New York's Citi Bikes Dataset\n",
    "# Description - Data Science Portfolio Project #1\n",
    "# Objectives - EDA & Prediction of Gender of the riders\n",
    "# Author - Nikhil Akki\n",
    "# Website - http://nikhilakki.in\n",
    "# Blog - http://datainfogeek.com/author/nikhil\n",
    "# LinkedIn - http://LinkedIn.com/in/nikhilakki\n",
    "# GitHub - http://GitHub.com/nikhilakki\n",
    "# License - MIT\n",
    "# '''\n",
    "```"
   ]
  },
  {
   "cell_type": "code",
   "execution_count": 209,
   "metadata": {
    "collapsed": true
   },
   "outputs": [],
   "source": [
    "# Load Data in a Pandas Dataframe\n",
    "import pandas as pd\n",
    "import seaborn as sns #just to make our visualization prettier ;-) \n",
    "import numpy as np \n",
    "import matplotlib.pyplot as plt\n",
    "import datetime\n",
    "import math\n",
    "%matplotlib inline"
   ]
  },
  {
   "cell_type": "markdown",
   "metadata": {},
   "source": [
    "## Run this first"
   ]
  },
  {
   "cell_type": "code",
   "execution_count": 84,
   "metadata": {
    "collapsed": true
   },
   "outputs": [],
   "source": [
    "df = pd.read_csv('/Users/dgeek/Documents/fsdse/NY-Citibike/2015-2017-combined.csv')"
   ]
  },
  {
   "cell_type": "markdown",
   "metadata": {},
   "source": [
    "### Frames is a list object which will be appended with each\n",
    "### dataframe (2015-2017-1 to 2015-2017-19) with the help of the for loop\n",
    "```python\n",
    "frames = []\n",
    "for i in range(0,19):\n",
    "    temp_df = pd.read_csv('/Users/dgeek/Documents/fsdse/NY-Citibike/2015-2017-'+str(i+1)+'.csv')\n",
    "    frames.append(temp_df)\n",
    "# df is the master dataframe with all 19 csvs merged into one\n",
    "# pd.concat creates a dataframe with the frames list object\n",
    "df = pd.concat(frames)\n",
    "```"
   ]
  },
  {
   "cell_type": "code",
   "execution_count": 85,
   "metadata": {},
   "outputs": [
    {
     "data": {
      "text/html": [
       "<div>\n",
       "<style>\n",
       "    .dataframe thead tr:only-child th {\n",
       "        text-align: right;\n",
       "    }\n",
       "\n",
       "    .dataframe thead th {\n",
       "        text-align: left;\n",
       "    }\n",
       "\n",
       "    .dataframe tbody tr th {\n",
       "        vertical-align: top;\n",
       "    }\n",
       "</style>\n",
       "<table border=\"1\" class=\"dataframe\">\n",
       "  <thead>\n",
       "    <tr style=\"text-align: right;\">\n",
       "      <th></th>\n",
       "      <th>Trip Duration</th>\n",
       "      <th>Start Time</th>\n",
       "      <th>Stop Time</th>\n",
       "      <th>Start Station ID</th>\n",
       "      <th>Start Station Name</th>\n",
       "      <th>Start Station Latitude</th>\n",
       "      <th>Start Station Longitude</th>\n",
       "      <th>End Station ID</th>\n",
       "      <th>End Station Name</th>\n",
       "      <th>End Station Latitude</th>\n",
       "      <th>End Station Longitude</th>\n",
       "      <th>Bike ID</th>\n",
       "      <th>User Type</th>\n",
       "      <th>Birth Year</th>\n",
       "      <th>Gender</th>\n",
       "      <th>Trip_Duration_in_min</th>\n",
       "    </tr>\n",
       "  </thead>\n",
       "  <tbody>\n",
       "    <tr>\n",
       "      <th>0</th>\n",
       "      <td>376</td>\n",
       "      <td>2015-10-01 00:16:26</td>\n",
       "      <td>2015-10-01 00:22:42</td>\n",
       "      <td>3212</td>\n",
       "      <td>Christ Hospital</td>\n",
       "      <td>40.734786</td>\n",
       "      <td>-74.050444</td>\n",
       "      <td>3207</td>\n",
       "      <td>Oakland Ave</td>\n",
       "      <td>40.737604</td>\n",
       "      <td>-74.052478</td>\n",
       "      <td>24470</td>\n",
       "      <td>Subscriber</td>\n",
       "      <td>1960.0</td>\n",
       "      <td>1</td>\n",
       "      <td>6</td>\n",
       "    </tr>\n",
       "    <tr>\n",
       "      <th>1</th>\n",
       "      <td>739</td>\n",
       "      <td>2015-10-01 00:27:12</td>\n",
       "      <td>2015-10-01 00:39:32</td>\n",
       "      <td>3207</td>\n",
       "      <td>Oakland Ave</td>\n",
       "      <td>40.737604</td>\n",
       "      <td>-74.052478</td>\n",
       "      <td>3212</td>\n",
       "      <td>Christ Hospital</td>\n",
       "      <td>40.734786</td>\n",
       "      <td>-74.050444</td>\n",
       "      <td>24481</td>\n",
       "      <td>Subscriber</td>\n",
       "      <td>1960.0</td>\n",
       "      <td>1</td>\n",
       "      <td>12</td>\n",
       "    </tr>\n",
       "    <tr>\n",
       "      <th>2</th>\n",
       "      <td>2714</td>\n",
       "      <td>2015-10-01 00:32:46</td>\n",
       "      <td>2015-10-01 01:18:01</td>\n",
       "      <td>3193</td>\n",
       "      <td>Lincoln Park</td>\n",
       "      <td>40.724605</td>\n",
       "      <td>-74.078406</td>\n",
       "      <td>3193</td>\n",
       "      <td>Lincoln Park</td>\n",
       "      <td>40.724605</td>\n",
       "      <td>-74.078406</td>\n",
       "      <td>24628</td>\n",
       "      <td>Subscriber</td>\n",
       "      <td>1983.0</td>\n",
       "      <td>1</td>\n",
       "      <td>45</td>\n",
       "    </tr>\n",
       "    <tr>\n",
       "      <th>3</th>\n",
       "      <td>275</td>\n",
       "      <td>2015-10-01 00:34:31</td>\n",
       "      <td>2015-10-01 00:39:06</td>\n",
       "      <td>3199</td>\n",
       "      <td>Newport Pkwy</td>\n",
       "      <td>40.728745</td>\n",
       "      <td>-74.032108</td>\n",
       "      <td>3187</td>\n",
       "      <td>Warren St</td>\n",
       "      <td>40.721124</td>\n",
       "      <td>-74.038051</td>\n",
       "      <td>24613</td>\n",
       "      <td>Subscriber</td>\n",
       "      <td>1975.0</td>\n",
       "      <td>1</td>\n",
       "      <td>5</td>\n",
       "    </tr>\n",
       "    <tr>\n",
       "      <th>4</th>\n",
       "      <td>561</td>\n",
       "      <td>2015-10-01 00:40:12</td>\n",
       "      <td>2015-10-01 00:49:33</td>\n",
       "      <td>3183</td>\n",
       "      <td>Exchange Place</td>\n",
       "      <td>40.716247</td>\n",
       "      <td>-74.033459</td>\n",
       "      <td>3192</td>\n",
       "      <td>Liberty Light Rail</td>\n",
       "      <td>40.711242</td>\n",
       "      <td>-74.055701</td>\n",
       "      <td>24668</td>\n",
       "      <td>Customer</td>\n",
       "      <td>1984.0</td>\n",
       "      <td>0</td>\n",
       "      <td>9</td>\n",
       "    </tr>\n",
       "  </tbody>\n",
       "</table>\n",
       "</div>"
      ],
      "text/plain": [
       "   Trip Duration           Start Time            Stop Time  Start Station ID  \\\n",
       "0            376  2015-10-01 00:16:26  2015-10-01 00:22:42              3212   \n",
       "1            739  2015-10-01 00:27:12  2015-10-01 00:39:32              3207   \n",
       "2           2714  2015-10-01 00:32:46  2015-10-01 01:18:01              3193   \n",
       "3            275  2015-10-01 00:34:31  2015-10-01 00:39:06              3199   \n",
       "4            561  2015-10-01 00:40:12  2015-10-01 00:49:33              3183   \n",
       "\n",
       "  Start Station Name  Start Station Latitude  Start Station Longitude  \\\n",
       "0    Christ Hospital               40.734786               -74.050444   \n",
       "1        Oakland Ave               40.737604               -74.052478   \n",
       "2       Lincoln Park               40.724605               -74.078406   \n",
       "3       Newport Pkwy               40.728745               -74.032108   \n",
       "4     Exchange Place               40.716247               -74.033459   \n",
       "\n",
       "   End Station ID    End Station Name  End Station Latitude  \\\n",
       "0            3207         Oakland Ave             40.737604   \n",
       "1            3212     Christ Hospital             40.734786   \n",
       "2            3193        Lincoln Park             40.724605   \n",
       "3            3187           Warren St             40.721124   \n",
       "4            3192  Liberty Light Rail             40.711242   \n",
       "\n",
       "   End Station Longitude  Bike ID   User Type  Birth Year  Gender  \\\n",
       "0             -74.052478    24470  Subscriber      1960.0       1   \n",
       "1             -74.050444    24481  Subscriber      1960.0       1   \n",
       "2             -74.078406    24628  Subscriber      1983.0       1   \n",
       "3             -74.038051    24613  Subscriber      1975.0       1   \n",
       "4             -74.055701    24668    Customer      1984.0       0   \n",
       "\n",
       "   Trip_Duration_in_min  \n",
       "0                     6  \n",
       "1                    12  \n",
       "2                    45  \n",
       "3                     5  \n",
       "4                     9  "
      ]
     },
     "execution_count": 85,
     "metadata": {},
     "output_type": "execute_result"
    }
   ],
   "source": [
    "# checks for first 5 values of dataframe - df\n",
    "df.drop(['Unnamed: 0'],axis=1, inplace=True)\n",
    "df.head()"
   ]
  },
  {
   "cell_type": "code",
   "execution_count": 86,
   "metadata": {},
   "outputs": [
    {
     "name": "stdout",
     "output_type": "stream",
     "text": [
      "735502\n"
     ]
    },
    {
     "name": "stderr",
     "output_type": "stream",
     "text": [
      "/Users/dgeek/miniconda3/lib/python3.6/site-packages/pandas/core/indexing.py:517: SettingWithCopyWarning: \n",
      "A value is trying to be set on a copy of a slice from a DataFrame.\n",
      "Try using .loc[row_indexer,col_indexer] = value instead\n",
      "\n",
      "See the caveats in the documentation: http://pandas.pydata.org/pandas-docs/stable/indexing.html#indexing-view-versus-copy\n",
      "  self.obj[item] = s\n"
     ]
    },
    {
     "data": {
      "text/html": [
       "<div>\n",
       "<style>\n",
       "    .dataframe thead tr:only-child th {\n",
       "        text-align: right;\n",
       "    }\n",
       "\n",
       "    .dataframe thead th {\n",
       "        text-align: left;\n",
       "    }\n",
       "\n",
       "    .dataframe tbody tr th {\n",
       "        vertical-align: top;\n",
       "    }\n",
       "</style>\n",
       "<table border=\"1\" class=\"dataframe\">\n",
       "  <thead>\n",
       "    <tr style=\"text-align: right;\">\n",
       "      <th></th>\n",
       "      <th>Trip_Duration_in_min</th>\n",
       "      <th>Start Time</th>\n",
       "      <th>Stop Time</th>\n",
       "      <th>Start Station Name</th>\n",
       "      <th>End Station Name</th>\n",
       "      <th>Bike ID</th>\n",
       "      <th>User Type</th>\n",
       "      <th>Birth Year</th>\n",
       "      <th>Gender</th>\n",
       "    </tr>\n",
       "  </thead>\n",
       "  <tbody>\n",
       "    <tr>\n",
       "      <th>0</th>\n",
       "      <td>6</td>\n",
       "      <td>2015-10-01 00:16:26</td>\n",
       "      <td>2015-10-01 00:22:42</td>\n",
       "      <td>Christ Hospital</td>\n",
       "      <td>Oakland Ave</td>\n",
       "      <td>24470</td>\n",
       "      <td>Subscriber</td>\n",
       "      <td>1960</td>\n",
       "      <td>1</td>\n",
       "    </tr>\n",
       "    <tr>\n",
       "      <th>1</th>\n",
       "      <td>12</td>\n",
       "      <td>2015-10-01 00:27:12</td>\n",
       "      <td>2015-10-01 00:39:32</td>\n",
       "      <td>Oakland Ave</td>\n",
       "      <td>Christ Hospital</td>\n",
       "      <td>24481</td>\n",
       "      <td>Subscriber</td>\n",
       "      <td>1960</td>\n",
       "      <td>1</td>\n",
       "    </tr>\n",
       "    <tr>\n",
       "      <th>2</th>\n",
       "      <td>45</td>\n",
       "      <td>2015-10-01 00:32:46</td>\n",
       "      <td>2015-10-01 01:18:01</td>\n",
       "      <td>Lincoln Park</td>\n",
       "      <td>Lincoln Park</td>\n",
       "      <td>24628</td>\n",
       "      <td>Subscriber</td>\n",
       "      <td>1983</td>\n",
       "      <td>1</td>\n",
       "    </tr>\n",
       "    <tr>\n",
       "      <th>3</th>\n",
       "      <td>5</td>\n",
       "      <td>2015-10-01 00:34:31</td>\n",
       "      <td>2015-10-01 00:39:06</td>\n",
       "      <td>Newport Pkwy</td>\n",
       "      <td>Warren St</td>\n",
       "      <td>24613</td>\n",
       "      <td>Subscriber</td>\n",
       "      <td>1975</td>\n",
       "      <td>1</td>\n",
       "    </tr>\n",
       "    <tr>\n",
       "      <th>4</th>\n",
       "      <td>9</td>\n",
       "      <td>2015-10-01 00:40:12</td>\n",
       "      <td>2015-10-01 00:49:33</td>\n",
       "      <td>Exchange Place</td>\n",
       "      <td>Liberty Light Rail</td>\n",
       "      <td>24668</td>\n",
       "      <td>Customer</td>\n",
       "      <td>1984</td>\n",
       "      <td>0</td>\n",
       "    </tr>\n",
       "  </tbody>\n",
       "</table>\n",
       "</div>"
      ],
      "text/plain": [
       "   Trip_Duration_in_min           Start Time            Stop Time  \\\n",
       "0                     6  2015-10-01 00:16:26  2015-10-01 00:22:42   \n",
       "1                    12  2015-10-01 00:27:12  2015-10-01 00:39:32   \n",
       "2                    45  2015-10-01 00:32:46  2015-10-01 01:18:01   \n",
       "3                     5  2015-10-01 00:34:31  2015-10-01 00:39:06   \n",
       "4                     9  2015-10-01 00:40:12  2015-10-01 00:49:33   \n",
       "\n",
       "  Start Station Name    End Station Name  Bike ID   User Type  Birth Year  \\\n",
       "0    Christ Hospital         Oakland Ave    24470  Subscriber        1960   \n",
       "1        Oakland Ave     Christ Hospital    24481  Subscriber        1960   \n",
       "2       Lincoln Park        Lincoln Park    24628  Subscriber        1983   \n",
       "3       Newport Pkwy           Warren St    24613  Subscriber        1975   \n",
       "4     Exchange Place  Liberty Light Rail    24668    Customer        1984   \n",
       "\n",
       "   Gender  \n",
       "0       1  \n",
       "1       1  \n",
       "2       1  \n",
       "3       1  \n",
       "4       0  "
      ]
     },
     "execution_count": 86,
     "metadata": {},
     "output_type": "execute_result"
    }
   ],
   "source": [
    "# checks for length of dataframe - df\n",
    "print(len(df))\n",
    "ndf = df[['Trip_Duration_in_min', 'Start Time', 'Stop Time',\n",
    "       'Start Station Name', 'End Station Name',\n",
    "      'Bike ID', 'User Type','Birth Year', 'Gender']]\n",
    "ndf.loc[:,('Birth Year')] = ndf['Birth Year'].astype(int)\n",
    "ndf.head()"
   ]
  },
  {
   "cell_type": "markdown",
   "metadata": {},
   "source": [
    "### Exploratory Data Analysis"
   ]
  },
  {
   "cell_type": "markdown",
   "metadata": {},
   "source": [
    "#### df.describe function gives the quartiles of all numeric variables"
   ]
  },
  {
   "cell_type": "code",
   "execution_count": 87,
   "metadata": {},
   "outputs": [
    {
     "data": {
      "text/html": [
       "<div>\n",
       "<style>\n",
       "    .dataframe thead tr:only-child th {\n",
       "        text-align: right;\n",
       "    }\n",
       "\n",
       "    .dataframe thead th {\n",
       "        text-align: left;\n",
       "    }\n",
       "\n",
       "    .dataframe tbody tr th {\n",
       "        vertical-align: top;\n",
       "    }\n",
       "</style>\n",
       "<table border=\"1\" class=\"dataframe\">\n",
       "  <thead>\n",
       "    <tr style=\"text-align: right;\">\n",
       "      <th></th>\n",
       "      <th>Trip_Duration_in_min</th>\n",
       "      <th>Bike ID</th>\n",
       "      <th>Birth Year</th>\n",
       "      <th>Gender</th>\n",
       "    </tr>\n",
       "  </thead>\n",
       "  <tbody>\n",
       "    <tr>\n",
       "      <th>count</th>\n",
       "      <td>735502.000000</td>\n",
       "      <td>735502.000000</td>\n",
       "      <td>735502.000000</td>\n",
       "      <td>735502.000000</td>\n",
       "    </tr>\n",
       "    <tr>\n",
       "      <th>mean</th>\n",
       "      <td>15.570669</td>\n",
       "      <td>24914.009133</td>\n",
       "      <td>1979.544239</td>\n",
       "      <td>1.123668</td>\n",
       "    </tr>\n",
       "    <tr>\n",
       "      <th>std</th>\n",
       "      <td>677.312437</td>\n",
       "      <td>753.768581</td>\n",
       "      <td>9.371192</td>\n",
       "      <td>0.519694</td>\n",
       "    </tr>\n",
       "    <tr>\n",
       "      <th>min</th>\n",
       "      <td>1.000000</td>\n",
       "      <td>14552.000000</td>\n",
       "      <td>1900.000000</td>\n",
       "      <td>0.000000</td>\n",
       "    </tr>\n",
       "    <tr>\n",
       "      <th>25%</th>\n",
       "      <td>4.000000</td>\n",
       "      <td>24486.000000</td>\n",
       "      <td>1975.000000</td>\n",
       "      <td>1.000000</td>\n",
       "    </tr>\n",
       "    <tr>\n",
       "      <th>50%</th>\n",
       "      <td>6.000000</td>\n",
       "      <td>24602.000000</td>\n",
       "      <td>1982.000000</td>\n",
       "      <td>1.000000</td>\n",
       "    </tr>\n",
       "    <tr>\n",
       "      <th>75%</th>\n",
       "      <td>11.000000</td>\n",
       "      <td>24711.000000</td>\n",
       "      <td>1986.000000</td>\n",
       "      <td>1.000000</td>\n",
       "    </tr>\n",
       "    <tr>\n",
       "      <th>max</th>\n",
       "      <td>337670.000000</td>\n",
       "      <td>29296.000000</td>\n",
       "      <td>2000.000000</td>\n",
       "      <td>2.000000</td>\n",
       "    </tr>\n",
       "  </tbody>\n",
       "</table>\n",
       "</div>"
      ],
      "text/plain": [
       "       Trip_Duration_in_min        Bike ID     Birth Year         Gender\n",
       "count         735502.000000  735502.000000  735502.000000  735502.000000\n",
       "mean              15.570669   24914.009133    1979.544239       1.123668\n",
       "std              677.312437     753.768581       9.371192       0.519694\n",
       "min                1.000000   14552.000000    1900.000000       0.000000\n",
       "25%                4.000000   24486.000000    1975.000000       1.000000\n",
       "50%                6.000000   24602.000000    1982.000000       1.000000\n",
       "75%               11.000000   24711.000000    1986.000000       1.000000\n",
       "max           337670.000000   29296.000000    2000.000000       2.000000"
      ]
     },
     "execution_count": 87,
     "metadata": {},
     "output_type": "execute_result"
    }
   ],
   "source": [
    "ndf.describe()"
   ]
  },
  {
   "cell_type": "markdown",
   "metadata": {},
   "source": [
    "#### df.info function will show all columns attributes, count, null values (if any), dtypes - int64, object etc.\n"
   ]
  },
  {
   "cell_type": "code",
   "execution_count": 88,
   "metadata": {},
   "outputs": [
    {
     "name": "stdout",
     "output_type": "stream",
     "text": [
      "<class 'pandas.core.frame.DataFrame'>\n",
      "RangeIndex: 735502 entries, 0 to 735501\n",
      "Data columns (total 9 columns):\n",
      "Trip_Duration_in_min    735502 non-null int64\n",
      "Start Time              735502 non-null object\n",
      "Stop Time               735502 non-null object\n",
      "Start Station Name      735502 non-null object\n",
      "End Station Name        735502 non-null object\n",
      "Bike ID                 735502 non-null int64\n",
      "User Type               735502 non-null object\n",
      "Birth Year              735502 non-null int64\n",
      "Gender                  735502 non-null int64\n",
      "dtypes: int64(4), object(5)\n",
      "memory usage: 50.5+ MB\n"
     ]
    }
   ],
   "source": [
    "ndf.info()"
   ]
  },
  {
   "cell_type": "code",
   "execution_count": 89,
   "metadata": {},
   "outputs": [
    {
     "name": "stderr",
     "output_type": "stream",
     "text": [
      "/Users/dgeek/miniconda3/lib/python3.6/site-packages/ipykernel_launcher.py:4: SettingWithCopyWarning: \n",
      "A value is trying to be set on a copy of a slice from a DataFrame.\n",
      "Try using .loc[row_indexer,col_indexer] = value instead\n",
      "\n",
      "See the caveats in the documentation: http://pandas.pydata.org/pandas-docs/stable/indexing.html#indexing-view-versus-copy\n",
      "  after removing the cwd from sys.path.\n"
     ]
    },
    {
     "name": "stdout",
     "output_type": "stream",
     "text": [
      "<class 'pandas.core.frame.DataFrame'>\n",
      "RangeIndex: 735502 entries, 0 to 735501\n",
      "Data columns (total 9 columns):\n",
      "Trip_Duration_in_min    735502 non-null int64\n",
      "Start Time              735502 non-null object\n",
      "Stop Time               735502 non-null object\n",
      "Start Station Name      735502 non-null category\n",
      "End Station Name        735502 non-null category\n",
      "Bike ID                 735502 non-null category\n",
      "User Type               735502 non-null category\n",
      "Birth Year              735502 non-null int64\n",
      "Gender                  735502 non-null category\n",
      "dtypes: category(5), int64(2), object(2)\n",
      "memory usage: 26.7+ MB\n"
     ]
    }
   ],
   "source": [
    "ndf.columns\n",
    "cat_cols = ['Start Station Name', 'End Station Name', 'Bike ID', 'User Type', 'Gender']\n",
    "for col in cat_cols:\n",
    "    ndf[col] = ndf[col].astype('category')\n",
    "ndf.info()"
   ]
  },
  {
   "cell_type": "code",
   "execution_count": 90,
   "metadata": {},
   "outputs": [
    {
     "data": {
      "text/plain": [
       "Subscriber    688140\n",
       "Customer       47362\n",
       "Name: User Type, dtype: int64"
      ]
     },
     "execution_count": 90,
     "metadata": {},
     "output_type": "execute_result"
    }
   ],
   "source": [
    "df['User Type'].value_counts()"
   ]
  },
  {
   "cell_type": "code",
   "execution_count": 93,
   "metadata": {
    "scrolled": true
   },
   "outputs": [
    {
     "name": "stdout",
     "output_type": "stream",
     "text": [
      "<class 'pandas.core.frame.DataFrame'>\n",
      "RangeIndex: 735502 entries, 0 to 735501\n",
      "Data columns (total 9 columns):\n",
      "Trip_Duration_in_min    735502 non-null int64\n",
      "Start Time              735502 non-null object\n",
      "Stop Time               735502 non-null object\n",
      "Start Station Name      735502 non-null category\n",
      "End Station Name        735502 non-null category\n",
      "Bike ID                 735502 non-null category\n",
      "User Type               735502 non-null category\n",
      "Birth Year              735502 non-null int64\n",
      "Gender                  735502 non-null category\n",
      "dtypes: category(5), int64(2), object(2)\n",
      "memory usage: 26.7+ MB\n"
     ]
    }
   ],
   "source": [
    "ndf.info()"
   ]
  },
  {
   "cell_type": "markdown",
   "metadata": {},
   "source": [
    "### Missing values treated with Mode, lets now bring all the feature variables to the right scale\n"
   ]
  },
  {
   "cell_type": "markdown",
   "metadata": {},
   "source": [
    "#### Since User Type is a categorical data field we will find the mode"
   ]
  },
  {
   "cell_type": "code",
   "execution_count": 92,
   "metadata": {},
   "outputs": [
    {
     "name": "stderr",
     "output_type": "stream",
     "text": [
      "/Users/dgeek/miniconda3/lib/python3.6/site-packages/pandas/core/generic.py:3660: SettingWithCopyWarning: \n",
      "A value is trying to be set on a copy of a slice from a DataFrame\n",
      "\n",
      "See the caveats in the documentation: http://pandas.pydata.org/pandas-docs/stable/indexing.html#indexing-view-versus-copy\n",
      "  self._update_inplace(new_data)\n"
     ]
    },
    {
     "data": {
      "text/plain": [
       "Subscriber    688140\n",
       "Customer       47362\n",
       "Name: User Type, dtype: int64"
      ]
     },
     "execution_count": 92,
     "metadata": {},
     "output_type": "execute_result"
    }
   ],
   "source": [
    "UT_mode = ndf.mode().loc[:('User Type')]\n",
    "# imputing mode inplace of missing values\n",
    "ndf['User Type'].fillna(value=UT_mode['User Type'][0], inplace=True)\n",
    "# check the counts again\n",
    "ndf['User Type'].value_counts()"
   ]
  },
  {
   "cell_type": "markdown",
   "metadata": {},
   "source": [
    "#### In the above chart we see that columns - Usertype & Birth Year have some missing values this can be treated in a few ways, first lets explore our options\n"
   ]
  },
  {
   "cell_type": "markdown",
   "metadata": {},
   "source": [
    "#### Birth Year missing values"
   ]
  },
  {
   "cell_type": "code",
   "execution_count": 94,
   "metadata": {},
   "outputs": [
    {
     "name": "stderr",
     "output_type": "stream",
     "text": [
      "/Users/dgeek/miniconda3/lib/python3.6/site-packages/pandas/core/generic.py:3660: SettingWithCopyWarning: \n",
      "A value is trying to be set on a copy of a slice from a DataFrame\n",
      "\n",
      "See the caveats in the documentation: http://pandas.pydata.org/pandas-docs/stable/indexing.html#indexing-view-versus-copy\n",
      "  self._update_inplace(new_data)\n"
     ]
    },
    {
     "name": "stdout",
     "output_type": "stream",
     "text": [
      "<class 'pandas.core.frame.DataFrame'>\n",
      "RangeIndex: 735502 entries, 0 to 735501\n",
      "Data columns (total 9 columns):\n",
      "Trip_Duration_in_min    735502 non-null int64\n",
      "Start Time              735502 non-null object\n",
      "Stop Time               735502 non-null object\n",
      "Start Station Name      735502 non-null category\n",
      "End Station Name        735502 non-null category\n",
      "Bike ID                 735502 non-null category\n",
      "User Type               735502 non-null category\n",
      "Birth Year              735502 non-null int64\n",
      "Gender                  735502 non-null category\n",
      "dtypes: category(5), int64(2), object(2)\n",
      "memory usage: 26.7+ MB\n"
     ]
    }
   ],
   "source": [
    "BY_mode = ndf.mode().loc[:('Birth Year')]\n",
    "ndf['Birth Year'].fillna(value=BY_mode['Birth Year'][0], inplace=True)\n",
    "ndf.info()"
   ]
  },
  {
   "cell_type": "markdown",
   "metadata": {},
   "source": [
    "### Converting Trip Duration in seconds to minutes"
   ]
  },
  {
   "cell_type": "code",
   "execution_count": 204,
   "metadata": {
    "collapsed": true
   },
   "outputs": [],
   "source": [
    "df['Trip_Duration_in_min'] = df['Trip Duration']/60\n",
    "# rounding to nearest decimal and converting to int32 for easier computation\n",
    "df['Trip_Duration_in_min'] = df['Trip_Duration_in_min'].round().astype('int32')"
   ]
  },
  {
   "cell_type": "markdown",
   "metadata": {},
   "source": [
    "#### Average Trip Duration - 16 Minutes"
   ]
  },
  {
   "cell_type": "code",
   "execution_count": 96,
   "metadata": {},
   "outputs": [
    {
     "data": {
      "text/plain": [
       "16"
      ]
     },
     "execution_count": 96,
     "metadata": {},
     "output_type": "execute_result"
    }
   ],
   "source": [
    "ndf['Trip_Duration_in_min'].mean().round().astype(int)"
   ]
  },
  {
   "cell_type": "markdown",
   "metadata": {},
   "source": [
    "#### Top 10 Duration in minutes number of rides"
   ]
  },
  {
   "cell_type": "code",
   "execution_count": 97,
   "metadata": {},
   "outputs": [
    {
     "name": "stdout",
     "output_type": "stream",
     "text": [
      "<class 'pandas.core.frame.DataFrame'>\n",
      "RangeIndex: 735502 entries, 0 to 735501\n",
      "Data columns (total 9 columns):\n",
      "Trip_Duration_in_min    735502 non-null int64\n",
      "Start Time              735502 non-null object\n",
      "Stop Time               735502 non-null object\n",
      "Start Station Name      735502 non-null category\n",
      "End Station Name        735502 non-null category\n",
      "Bike ID                 735502 non-null category\n",
      "User Type               735502 non-null category\n",
      "Birth Year              735502 non-null int64\n",
      "Gender                  735502 non-null category\n",
      "dtypes: category(5), int64(2), object(2)\n",
      "memory usage: 26.7+ MB\n"
     ]
    },
    {
     "data": {
      "image/png": "[encoded data removed]",
      "text/plain": [
       "<matplotlib.figure.Figure at 0x10b89e898>"
      ]
     },
     "metadata": {},
     "output_type": "display_data"
    }
   ],
   "source": [
    "ndf['Trip_Duration_in_min'].value_counts().head(10).plot.barh()\n",
    "ndf.info()"
   ]
  },
  {
   "cell_type": "markdown",
   "metadata": {},
   "source": [
    "### creating a combined copy of dfs 2015-2017 for future use\n",
    "```python\n",
    "df.to_csv('/Users/dgeek/Documents/fsdse/NY-Citibike/2015-2017-combined.csv')\n",
    "```"
   ]
  },
  {
   "cell_type": "markdown",
   "metadata": {},
   "source": [
    "#### Lets plot to get a visual\n"
   ]
  },
  {
   "cell_type": "code",
   "execution_count": 203,
   "metadata": {},
   "outputs": [
    {
     "data": {
      "text/plain": [
       "<matplotlib.axes._subplots.AxesSubplot at 0x10ff32e80>"
      ]
     },
     "execution_count": 203,
     "metadata": {},
     "output_type": "execute_result"
    },
    {
     "data": {
      "image/png": "[encoded data removed]",
      "text/plain": [
       "<matplotlib.figure.Figure at 0x10ff32f60>"
      ]
     },
     "metadata": {},
     "output_type": "display_data"
    }
   ],
   "source": [
    "fig = plt.figure(figsize=(3,3), dpi=200)\n",
    "ax = plt.subplot(111)\n",
    "df['User Type'].value_counts().plot(kind='pie', ax=ax, autopct='%1.1f%%', startangle=270, fontsize=10)\n"
   ]
  },
  {
   "cell_type": "markdown",
   "metadata": {},
   "source": [
    "### Attempt to Calculate distance between Start & End stops (doesn't work)"
   ]
  },
  {
   "cell_type": "markdown",
   "metadata": {},
   "source": [
    "So now we try to find the distance (in kms or miles) so that we can determine the average speed of each ride.\n",
    "First approach was to calculate distance from lat long (refer - http://andrew.hedges.name/experiments/haversine/)\n",
    "Andrew has found a neat way to find the distance just with lat long\n",
    "Although in our case it would be useful, let me explain so the distance is calculated by this formula -\n",
    "Formula - \n",
    "```\n",
    "dlon = lon2 - lon1\n",
    "dlat = lat2 - lat1\n",
    "a = (sin(dlat/2))^2 + cos(lat1) * cos(lat2) * (sin(dlon/2))^2\n",
    "c = 2 * atan2( sqrt(a), sqrt(1-a) )\n",
    "d = R * c (where R is the radius of the Earth)\n",
    "```\n",
    "The complicated formula along with radius of the earth helps in calculating the distance.\n",
    "However, it doesn't or rather cannot account for the road or route the person has taken.\n",
    "This method is useful for calculating Airborne travel since the path is pretty much straight forward.\n",
    "This formula is been used by NASA and other agencies with intelligent people. Long story short this approach we won't be taking."
   ]
  },
  {
   "cell_type": "code",
   "execution_count": 99,
   "metadata": {},
   "outputs": [
    {
     "name": "stdout",
     "output_type": "stream",
     "text": [
      "25 kms distance was covered in 6 minutes\n"
     ]
    }
   ],
   "source": [
    "lat1 = df['Start Station Latitude'][:1]\n",
    "lon1 = df['Start Station Latitude'][:1]\n",
    "lat2 = df['End Station Latitude'][:1]\n",
    "lon2 = df['End Station Latitude'][:1]\n",
    "time = df['Trip_Duration_in_min'][:1]\n",
    "R = 6371\n",
    "dlon = lon2 - lon1\n",
    "dlat = lat2 - lat1\n",
    "a = (np.sin(dlat/2))**2 + np.cos(lat1) * np.cos(lat2) * (np.sin(dlon/2))**2\n",
    "c = 2 * math.atan2( np.sqrt(a), np.sqrt(1-a) )\n",
    "d = R * c #(where R is the radius of the Earth)\n",
    "\n",
    "print('%d'%d+' kms distance was covered in %d' %time+' minutes')"
   ]
  },
  {
   "cell_type": "markdown",
   "metadata": {},
   "source": [
    "#### This clearly doesn't work for us, so we will have to look for another way. May be [Google Maps Distance Matrix API would help](https://developers.google.com/maps/documentation/distance-matrix/intro),  I'm working to on it and if it works I'll post it in my next blog post. If you have got it working for you please feel free to share or tag me or this article."
   ]
  },
  {
   "cell_type": "markdown",
   "metadata": {},
   "source": [
    "## Further Analysis"
   ]
  },
  {
   "cell_type": "code",
   "execution_count": 100,
   "metadata": {},
   "outputs": [
    {
     "name": "stdout",
     "output_type": "stream",
     "text": [
      "51\n"
     ]
    }
   ],
   "source": [
    "print(len(ndf['Start Station Name'].unique()))"
   ]
  },
  {
   "cell_type": "code",
   "execution_count": 101,
   "metadata": {},
   "outputs": [
    {
     "name": "stdout",
     "output_type": "stream",
     "text": [
      "114\n"
     ]
    }
   ],
   "source": [
    "print(len(ndf['End Station Name'].unique()))"
   ]
  },
  {
   "cell_type": "code",
   "execution_count": 102,
   "metadata": {
    "collapsed": true
   },
   "outputs": [],
   "source": [
    "stations = ndf[['Start Station Name', 'End Station Name']]"
   ]
  },
  {
   "cell_type": "code",
   "execution_count": 103,
   "metadata": {},
   "outputs": [
    {
     "data": {
      "text/plain": [
       "4276208628"
      ]
     },
     "execution_count": 103,
     "metadata": {},
     "output_type": "execute_result"
    }
   ],
   "source": [
    "114*51*len(df['Start Station ID'])"
   ]
  },
  {
   "cell_type": "code",
   "execution_count": 207,
   "metadata": {},
   "outputs": [
    {
     "data": {
      "text/plain": [
       "<matplotlib.axes._subplots.AxesSubplot at 0x11345b4a8>"
      ]
     },
     "execution_count": 207,
     "metadata": {},
     "output_type": "execute_result"
    },
    {
     "data": {
      "image/png": "[encoded data removed]",
      "text/plain": [
       "<matplotlib.figure.Figure at 0x11347d5f8>"
      ]
     },
     "metadata": {},
     "output_type": "display_data"
    }
   ],
   "source": [
    "ndf['Start Station Name'].value_counts().head().plot.barh()"
   ]
  },
  {
   "cell_type": "code",
   "execution_count": 208,
   "metadata": {},
   "outputs": [
    {
     "data": {
      "text/plain": [
       "<matplotlib.axes._subplots.AxesSubplot at 0x1143c1828>"
      ]
     },
     "execution_count": 208,
     "metadata": {},
     "output_type": "execute_result"
    },
    {
     "data": {
      "image/png": "[encoded data removed]",
      "text/plain": [
       "<matplotlib.figure.Figure at 0x1134dccf8>"
      ]
     },
     "metadata": {},
     "output_type": "display_data"
    }
   ],
   "source": [
    "ndf['End Station Name'].value_counts().head().plot.barh()"
   ]
  },
  {
   "cell_type": "code",
   "execution_count": 107,
   "metadata": {},
   "outputs": [
    {
     "name": "stderr",
     "output_type": "stream",
     "text": [
      "/Users/dgeek/miniconda3/lib/python3.6/site-packages/ipykernel_launcher.py:1: SettingWithCopyWarning: \n",
      "A value is trying to be set on a copy of a slice from a DataFrame.\n",
      "Try using .loc[row_indexer,col_indexer] = value instead\n",
      "\n",
      "See the caveats in the documentation: http://pandas.pydata.org/pandas-docs/stable/indexing.html#indexing-view-versus-copy\n",
      "  \"\"\"Entry point for launching an IPython kernel.\n",
      "/Users/dgeek/miniconda3/lib/python3.6/site-packages/ipykernel_launcher.py:2: SettingWithCopyWarning: \n",
      "A value is trying to be set on a copy of a slice from a DataFrame.\n",
      "Try using .loc[row_indexer,col_indexer] = value instead\n",
      "\n",
      "See the caveats in the documentation: http://pandas.pydata.org/pandas-docs/stable/indexing.html#indexing-view-versus-copy\n",
      "  \n"
     ]
    }
   ],
   "source": [
    "ndf['Start Date'] = pd.to_datetime(ndf['Start Time'])\n",
    "ndf['Stop Date'] = pd.to_datetime(ndf['Stop Time'])"
   ]
  },
  {
   "cell_type": "code",
   "execution_count": 108,
   "metadata": {},
   "outputs": [
    {
     "data": {
      "text/html": [
       "<div>\n",
       "<style>\n",
       "    .dataframe thead tr:only-child th {\n",
       "        text-align: right;\n",
       "    }\n",
       "\n",
       "    .dataframe thead th {\n",
       "        text-align: left;\n",
       "    }\n",
       "\n",
       "    .dataframe tbody tr th {\n",
       "        vertical-align: top;\n",
       "    }\n",
       "</style>\n",
       "<table border=\"1\" class=\"dataframe\">\n",
       "  <thead>\n",
       "    <tr style=\"text-align: right;\">\n",
       "      <th></th>\n",
       "      <th>Trip_Duration_in_min</th>\n",
       "      <th>Start Time</th>\n",
       "      <th>Stop Time</th>\n",
       "      <th>Start Station Name</th>\n",
       "      <th>End Station Name</th>\n",
       "      <th>Bike ID</th>\n",
       "      <th>User Type</th>\n",
       "      <th>Birth Year</th>\n",
       "      <th>Gender</th>\n",
       "      <th>Start Date</th>\n",
       "      <th>Stop Date</th>\n",
       "    </tr>\n",
       "  </thead>\n",
       "  <tbody>\n",
       "    <tr>\n",
       "      <th>0</th>\n",
       "      <td>6</td>\n",
       "      <td>2015-10-01 00:16:26</td>\n",
       "      <td>2015-10-01 00:22:42</td>\n",
       "      <td>Christ Hospital</td>\n",
       "      <td>Oakland Ave</td>\n",
       "      <td>24470</td>\n",
       "      <td>Subscriber</td>\n",
       "      <td>1960</td>\n",
       "      <td>1</td>\n",
       "      <td>2015-10-01 00:16:26</td>\n",
       "      <td>2015-10-01 00:22:42</td>\n",
       "    </tr>\n",
       "    <tr>\n",
       "      <th>1</th>\n",
       "      <td>12</td>\n",
       "      <td>2015-10-01 00:27:12</td>\n",
       "      <td>2015-10-01 00:39:32</td>\n",
       "      <td>Oakland Ave</td>\n",
       "      <td>Christ Hospital</td>\n",
       "      <td>24481</td>\n",
       "      <td>Subscriber</td>\n",
       "      <td>1960</td>\n",
       "      <td>1</td>\n",
       "      <td>2015-10-01 00:27:12</td>\n",
       "      <td>2015-10-01 00:39:32</td>\n",
       "    </tr>\n",
       "    <tr>\n",
       "      <th>2</th>\n",
       "      <td>45</td>\n",
       "      <td>2015-10-01 00:32:46</td>\n",
       "      <td>2015-10-01 01:18:01</td>\n",
       "      <td>Lincoln Park</td>\n",
       "      <td>Lincoln Park</td>\n",
       "      <td>24628</td>\n",
       "      <td>Subscriber</td>\n",
       "      <td>1983</td>\n",
       "      <td>1</td>\n",
       "      <td>2015-10-01 00:32:46</td>\n",
       "      <td>2015-10-01 01:18:01</td>\n",
       "    </tr>\n",
       "    <tr>\n",
       "      <th>3</th>\n",
       "      <td>5</td>\n",
       "      <td>2015-10-01 00:34:31</td>\n",
       "      <td>2015-10-01 00:39:06</td>\n",
       "      <td>Newport Pkwy</td>\n",
       "      <td>Warren St</td>\n",
       "      <td>24613</td>\n",
       "      <td>Subscriber</td>\n",
       "      <td>1975</td>\n",
       "      <td>1</td>\n",
       "      <td>2015-10-01 00:34:31</td>\n",
       "      <td>2015-10-01 00:39:06</td>\n",
       "    </tr>\n",
       "    <tr>\n",
       "      <th>4</th>\n",
       "      <td>9</td>\n",
       "      <td>2015-10-01 00:40:12</td>\n",
       "      <td>2015-10-01 00:49:33</td>\n",
       "      <td>Exchange Place</td>\n",
       "      <td>Liberty Light Rail</td>\n",
       "      <td>24668</td>\n",
       "      <td>Customer</td>\n",
       "      <td>1984</td>\n",
       "      <td>0</td>\n",
       "      <td>2015-10-01 00:40:12</td>\n",
       "      <td>2015-10-01 00:49:33</td>\n",
       "    </tr>\n",
       "  </tbody>\n",
       "</table>\n",
       "</div>"
      ],
      "text/plain": [
       "   Trip_Duration_in_min           Start Time            Stop Time  \\\n",
       "0                     6  2015-10-01 00:16:26  2015-10-01 00:22:42   \n",
       "1                    12  2015-10-01 00:27:12  2015-10-01 00:39:32   \n",
       "2                    45  2015-10-01 00:32:46  2015-10-01 01:18:01   \n",
       "3                     5  2015-10-01 00:34:31  2015-10-01 00:39:06   \n",
       "4                     9  2015-10-01 00:40:12  2015-10-01 00:49:33   \n",
       "\n",
       "  Start Station Name    End Station Name Bike ID   User Type  Birth Year  \\\n",
       "0    Christ Hospital         Oakland Ave   24470  Subscriber        1960   \n",
       "1        Oakland Ave     Christ Hospital   24481  Subscriber        1960   \n",
       "2       Lincoln Park        Lincoln Park   24628  Subscriber        1983   \n",
       "3       Newport Pkwy           Warren St   24613  Subscriber        1975   \n",
       "4     Exchange Place  Liberty Light Rail   24668    Customer        1984   \n",
       "\n",
       "  Gender          Start Date           Stop Date  \n",
       "0      1 2015-10-01 00:16:26 2015-10-01 00:22:42  \n",
       "1      1 2015-10-01 00:27:12 2015-10-01 00:39:32  \n",
       "2      1 2015-10-01 00:32:46 2015-10-01 01:18:01  \n",
       "3      1 2015-10-01 00:34:31 2015-10-01 00:39:06  \n",
       "4      0 2015-10-01 00:40:12 2015-10-01 00:49:33  "
      ]
     },
     "execution_count": 108,
     "metadata": {},
     "output_type": "execute_result"
    }
   ],
   "source": [
    "ndf.head()"
   ]
  },
  {
   "cell_type": "code",
   "execution_count": 109,
   "metadata": {},
   "outputs": [
    {
     "name": "stderr",
     "output_type": "stream",
     "text": [
      "/Users/dgeek/miniconda3/lib/python3.6/site-packages/ipykernel_launcher.py:1: SettingWithCopyWarning: \n",
      "A value is trying to be set on a copy of a slice from a DataFrame.\n",
      "Try using .loc[row_indexer,col_indexer] = value instead\n",
      "\n",
      "See the caveats in the documentation: http://pandas.pydata.org/pandas-docs/stable/indexing.html#indexing-view-versus-copy\n",
      "  \"\"\"Entry point for launching an IPython kernel.\n",
      "/Users/dgeek/miniconda3/lib/python3.6/site-packages/ipykernel_launcher.py:2: SettingWithCopyWarning: \n",
      "A value is trying to be set on a copy of a slice from a DataFrame.\n",
      "Try using .loc[row_indexer,col_indexer] = value instead\n",
      "\n",
      "See the caveats in the documentation: http://pandas.pydata.org/pandas-docs/stable/indexing.html#indexing-view-versus-copy\n",
      "  \n",
      "/Users/dgeek/miniconda3/lib/python3.6/site-packages/ipykernel_launcher.py:3: SettingWithCopyWarning: \n",
      "A value is trying to be set on a copy of a slice from a DataFrame.\n",
      "Try using .loc[row_indexer,col_indexer] = value instead\n",
      "\n",
      "See the caveats in the documentation: http://pandas.pydata.org/pandas-docs/stable/indexing.html#indexing-view-versus-copy\n",
      "  This is separate from the ipykernel package so we can avoid doing imports until\n",
      "/Users/dgeek/miniconda3/lib/python3.6/site-packages/ipykernel_launcher.py:4: SettingWithCopyWarning: \n",
      "A value is trying to be set on a copy of a slice from a DataFrame.\n",
      "Try using .loc[row_indexer,col_indexer] = value instead\n",
      "\n",
      "See the caveats in the documentation: http://pandas.pydata.org/pandas-docs/stable/indexing.html#indexing-view-versus-copy\n",
      "  after removing the cwd from sys.path.\n"
     ]
    }
   ],
   "source": [
    "ndf['Start Month'] = ndf['Start Date'].dt.month\n",
    "ndf['Start Day'] = ndf['Start Date'].dt.day\n",
    "ndf['Start Minute'] = ndf['Start Date'].dt.minute\n",
    "ndf['Start Week'] = ndf['Start Date'].dt.minute\n",
    "ndf['Start Weekday'] = ndf['Start Date'].dt.minute\n",
    "ndf['Start Week'] = ndf['Start Date'].dt.week\n",
    "ndf['Start Weekofyear'] = ndf['Start Date'].dt.weekofyear\n",
    "ndf['Start weekday'] = ndf['Start Date'].dt.weekday\n",
    "ndf['Start dayofyear'] = ndf['Start Date'].dt.dayofyear\n",
    "ndf['Start weekday_name'] = ndf['Start Date'].dt.weekday_name\n",
    "ndf['Start quarter'] = ndf['Start Date'].dt.quarter"
   ]
  },
  {
   "cell_type": "code",
   "execution_count": 110,
   "metadata": {
    "collapsed": true
   },
   "outputs": [],
   "source": [
    "ndf['Stop Month'] = ndf['Stop Date'].dt.month\n",
    "ndf['Stop Day'] = ndf['Start Date'].dt.day\n",
    "ndf['Stop Minute'] = ndf['Stop Date'].dt.minute\n",
    "ndf['Stop Week'] = ndf['Stop Date'].dt.minute\n",
    "ndf['Stop Weekday'] = ndf['Stop Date'].dt.minute\n",
    "ndf['Stop Week'] = ndf['Stop Date'].dt.week\n",
    "ndf['Stop Weekofyear'] = ndf['Stop Date'].dt.weekofyear\n",
    "ndf['Stop weekday'] = ndf['Stop Date'].dt.weekday\n",
    "ndf['Stop dayofyear'] = ndf['Stop Date'].dt.dayofyear\n",
    "ndf['Stop weekday_name'] = ndf['Stop Date'].dt.weekday_name\n",
    "ndf['Stop quarter'] = ndf['Stop Date'].dt.quarter"
   ]
  },
  {
   "cell_type": "code",
   "execution_count": 111,
   "metadata": {},
   "outputs": [
    {
     "data": {
      "text/html": [
       "<div>\n",
       "<style>\n",
       "    .dataframe thead tr:only-child th {\n",
       "        text-align: right;\n",
       "    }\n",
       "\n",
       "    .dataframe thead th {\n",
       "        text-align: left;\n",
       "    }\n",
       "\n",
       "    .dataframe tbody tr th {\n",
       "        vertical-align: top;\n",
       "    }\n",
       "</style>\n",
       "<table border=\"1\" class=\"dataframe\">\n",
       "  <thead>\n",
       "    <tr style=\"text-align: right;\">\n",
       "      <th></th>\n",
       "      <th>Trip_Duration_in_min</th>\n",
       "      <th>Start Time</th>\n",
       "      <th>Stop Time</th>\n",
       "      <th>Start Station Name</th>\n",
       "      <th>End Station Name</th>\n",
       "      <th>Bike ID</th>\n",
       "      <th>User Type</th>\n",
       "      <th>Birth Year</th>\n",
       "      <th>Gender</th>\n",
       "      <th>Start Date</th>\n",
       "      <th>...</th>\n",
       "      <th>Stop Month</th>\n",
       "      <th>Stop Day</th>\n",
       "      <th>Stop Minute</th>\n",
       "      <th>Stop Week</th>\n",
       "      <th>Stop Weekday</th>\n",
       "      <th>Stop Weekofyear</th>\n",
       "      <th>Stop weekday</th>\n",
       "      <th>Stop dayofyear</th>\n",
       "      <th>Stop weekday_name</th>\n",
       "      <th>Stop quarter</th>\n",
       "    </tr>\n",
       "  </thead>\n",
       "  <tbody>\n",
       "    <tr>\n",
       "      <th>0</th>\n",
       "      <td>6</td>\n",
       "      <td>2015-10-01 00:16:26</td>\n",
       "      <td>2015-10-01 00:22:42</td>\n",
       "      <td>Christ Hospital</td>\n",
       "      <td>Oakland Ave</td>\n",
       "      <td>24470</td>\n",
       "      <td>Subscriber</td>\n",
       "      <td>1960</td>\n",
       "      <td>1</td>\n",
       "      <td>2015-10-01 00:16:26</td>\n",
       "      <td>...</td>\n",
       "      <td>10</td>\n",
       "      <td>1</td>\n",
       "      <td>22</td>\n",
       "      <td>40</td>\n",
       "      <td>22</td>\n",
       "      <td>40</td>\n",
       "      <td>3</td>\n",
       "      <td>274</td>\n",
       "      <td>Thursday</td>\n",
       "      <td>4</td>\n",
       "    </tr>\n",
       "    <tr>\n",
       "      <th>1</th>\n",
       "      <td>12</td>\n",
       "      <td>2015-10-01 00:27:12</td>\n",
       "      <td>2015-10-01 00:39:32</td>\n",
       "      <td>Oakland Ave</td>\n",
       "      <td>Christ Hospital</td>\n",
       "      <td>24481</td>\n",
       "      <td>Subscriber</td>\n",
       "      <td>1960</td>\n",
       "      <td>1</td>\n",
       "      <td>2015-10-01 00:27:12</td>\n",
       "      <td>...</td>\n",
       "      <td>10</td>\n",
       "      <td>1</td>\n",
       "      <td>39</td>\n",
       "      <td>40</td>\n",
       "      <td>39</td>\n",
       "      <td>40</td>\n",
       "      <td>3</td>\n",
       "      <td>274</td>\n",
       "      <td>Thursday</td>\n",
       "      <td>4</td>\n",
       "    </tr>\n",
       "    <tr>\n",
       "      <th>2</th>\n",
       "      <td>45</td>\n",
       "      <td>2015-10-01 00:32:46</td>\n",
       "      <td>2015-10-01 01:18:01</td>\n",
       "      <td>Lincoln Park</td>\n",
       "      <td>Lincoln Park</td>\n",
       "      <td>24628</td>\n",
       "      <td>Subscriber</td>\n",
       "      <td>1983</td>\n",
       "      <td>1</td>\n",
       "      <td>2015-10-01 00:32:46</td>\n",
       "      <td>...</td>\n",
       "      <td>10</td>\n",
       "      <td>1</td>\n",
       "      <td>18</td>\n",
       "      <td>40</td>\n",
       "      <td>18</td>\n",
       "      <td>40</td>\n",
       "      <td>3</td>\n",
       "      <td>274</td>\n",
       "      <td>Thursday</td>\n",
       "      <td>4</td>\n",
       "    </tr>\n",
       "    <tr>\n",
       "      <th>3</th>\n",
       "      <td>5</td>\n",
       "      <td>2015-10-01 00:34:31</td>\n",
       "      <td>2015-10-01 00:39:06</td>\n",
       "      <td>Newport Pkwy</td>\n",
       "      <td>Warren St</td>\n",
       "      <td>24613</td>\n",
       "      <td>Subscriber</td>\n",
       "      <td>1975</td>\n",
       "      <td>1</td>\n",
       "      <td>2015-10-01 00:34:31</td>\n",
       "      <td>...</td>\n",
       "      <td>10</td>\n",
       "      <td>1</td>\n",
       "      <td>39</td>\n",
       "      <td>40</td>\n",
       "      <td>39</td>\n",
       "      <td>40</td>\n",
       "      <td>3</td>\n",
       "      <td>274</td>\n",
       "      <td>Thursday</td>\n",
       "      <td>4</td>\n",
       "    </tr>\n",
       "    <tr>\n",
       "      <th>4</th>\n",
       "      <td>9</td>\n",
       "      <td>2015-10-01 00:40:12</td>\n",
       "      <td>2015-10-01 00:49:33</td>\n",
       "      <td>Exchange Place</td>\n",
       "      <td>Liberty Light Rail</td>\n",
       "      <td>24668</td>\n",
       "      <td>Customer</td>\n",
       "      <td>1984</td>\n",
       "      <td>0</td>\n",
       "      <td>2015-10-01 00:40:12</td>\n",
       "      <td>...</td>\n",
       "      <td>10</td>\n",
       "      <td>1</td>\n",
       "      <td>49</td>\n",
       "      <td>40</td>\n",
       "      <td>49</td>\n",
       "      <td>40</td>\n",
       "      <td>3</td>\n",
       "      <td>274</td>\n",
       "      <td>Thursday</td>\n",
       "      <td>4</td>\n",
       "    </tr>\n",
       "  </tbody>\n",
       "</table>\n",
       "<p>5 rows × 31 columns</p>\n",
       "</div>"
      ],
      "text/plain": [
       "   Trip_Duration_in_min           Start Time            Stop Time  \\\n",
       "0                     6  2015-10-01 00:16:26  2015-10-01 00:22:42   \n",
       "1                    12  2015-10-01 00:27:12  2015-10-01 00:39:32   \n",
       "2                    45  2015-10-01 00:32:46  2015-10-01 01:18:01   \n",
       "3                     5  2015-10-01 00:34:31  2015-10-01 00:39:06   \n",
       "4                     9  2015-10-01 00:40:12  2015-10-01 00:49:33   \n",
       "\n",
       "  Start Station Name    End Station Name Bike ID   User Type  Birth Year  \\\n",
       "0    Christ Hospital         Oakland Ave   24470  Subscriber        1960   \n",
       "1        Oakland Ave     Christ Hospital   24481  Subscriber        1960   \n",
       "2       Lincoln Park        Lincoln Park   24628  Subscriber        1983   \n",
       "3       Newport Pkwy           Warren St   24613  Subscriber        1975   \n",
       "4     Exchange Place  Liberty Light Rail   24668    Customer        1984   \n",
       "\n",
       "  Gender          Start Date     ...      Stop Month  Stop Day  Stop Minute  \\\n",
       "0      1 2015-10-01 00:16:26     ...              10         1           22   \n",
       "1      1 2015-10-01 00:27:12     ...              10         1           39   \n",
       "2      1 2015-10-01 00:32:46     ...              10         1           18   \n",
       "3      1 2015-10-01 00:34:31     ...              10         1           39   \n",
       "4      0 2015-10-01 00:40:12     ...              10         1           49   \n",
       "\n",
       "   Stop Week  Stop Weekday  Stop Weekofyear  Stop weekday  Stop dayofyear  \\\n",
       "0         40            22               40             3             274   \n",
       "1         40            39               40             3             274   \n",
       "2         40            18               40             3             274   \n",
       "3         40            39               40             3             274   \n",
       "4         40            49               40             3             274   \n",
       "\n",
       "   Stop weekday_name Stop quarter  \n",
       "0           Thursday            4  \n",
       "1           Thursday            4  \n",
       "2           Thursday            4  \n",
       "3           Thursday            4  \n",
       "4           Thursday            4  \n",
       "\n",
       "[5 rows x 31 columns]"
      ]
     },
     "execution_count": 111,
     "metadata": {},
     "output_type": "execute_result"
    }
   ],
   "source": [
    "ndf.head()"
   ]
  },
  {
   "cell_type": "code",
   "execution_count": 112,
   "metadata": {
    "scrolled": true
   },
   "outputs": [
    {
     "name": "stdout",
     "output_type": "stream",
     "text": [
      "<class 'pandas.core.frame.DataFrame'>\n",
      "RangeIndex: 735502 entries, 0 to 735501\n",
      "Data columns (total 31 columns):\n",
      "Trip_Duration_in_min    735502 non-null int64\n",
      "Start Time              735502 non-null object\n",
      "Stop Time               735502 non-null object\n",
      "Start Station Name      735502 non-null category\n",
      "End Station Name        735502 non-null category\n",
      "Bike ID                 735502 non-null category\n",
      "User Type               735502 non-null category\n",
      "Birth Year              735502 non-null int64\n",
      "Gender                  735502 non-null category\n",
      "Start Date              735502 non-null datetime64[ns]\n",
      "Stop Date               735502 non-null datetime64[ns]\n",
      "Start Month             735502 non-null int64\n",
      "Start Day               735502 non-null int64\n",
      "Start Minute            735502 non-null int64\n",
      "Start Week              735502 non-null int64\n",
      "Start Weekday           735502 non-null int64\n",
      "Start Weekofyear        735502 non-null int64\n",
      "Start weekday           735502 non-null int64\n",
      "Start dayofyear         735502 non-null int64\n",
      "Start weekday_name      735502 non-null object\n",
      "Start quarter           735502 non-null int64\n",
      "Stop Month              735502 non-null int64\n",
      "Stop Day                735502 non-null int64\n",
      "Stop Minute             735502 non-null int64\n",
      "Stop Week               735502 non-null int64\n",
      "Stop Weekday            735502 non-null int64\n",
      "Stop Weekofyear         735502 non-null int64\n",
      "Stop weekday            735502 non-null int64\n",
      "Stop dayofyear          735502 non-null int64\n",
      "Stop weekday_name       735502 non-null object\n",
      "Stop quarter            735502 non-null int64\n",
      "dtypes: category(5), datetime64[ns](2), int64(20), object(4)\n",
      "memory usage: 150.1+ MB\n"
     ]
    }
   ],
   "source": [
    "ndf.info()"
   ]
  },
  {
   "cell_type": "code",
   "execution_count": 113,
   "metadata": {},
   "outputs": [
    {
     "data": {
      "text/plain": [
       "<matplotlib.axes._subplots.AxesSubplot at 0x10ec7b160>"
      ]
     },
     "execution_count": 113,
     "metadata": {},
     "output_type": "execute_result"
    },
    {
     "data": {
      "image/png": "[encoded data removed]",
      "text/plain": [
       "<matplotlib.figure.Figure at 0x10e00ee10>"
      ]
     },
     "metadata": {},
     "output_type": "display_data"
    }
   ],
   "source": [
    "ndf['Start quarter'].value_counts().head().plot.bar()"
   ]
  },
  {
   "cell_type": "markdown",
   "metadata": {},
   "source": [
    "### 4th Quarter seems to have more riders"
   ]
  },
  {
   "cell_type": "code",
   "execution_count": 114,
   "metadata": {},
   "outputs": [
    {
     "data": {
      "text/plain": [
       "<matplotlib.axes._subplots.AxesSubplot at 0x10cb20198>"
      ]
     },
     "execution_count": 114,
     "metadata": {},
     "output_type": "execute_result"
    },
    {
     "data": {
      "image/png": "[encoded data removed]",
      "text/plain": [
       "<matplotlib.figure.Figure at 0x10e00e4a8>"
      ]
     },
     "metadata": {},
     "output_type": "display_data"
    }
   ],
   "source": [
    "ndf['Start weekday_name'].value_counts().plot.bar()"
   ]
  },
  {
   "cell_type": "code",
   "execution_count": 115,
   "metadata": {},
   "outputs": [
    {
     "data": {
      "text/plain": [
       "<matplotlib.axes._subplots.AxesSubplot at 0x10edf4940>"
      ]
     },
     "execution_count": 115,
     "metadata": {},
     "output_type": "execute_result"
    },
    {
     "data": {
      "image/png": "[encoded data removed]",
      "text/plain": [
       "<matplotlib.figure.Figure at 0x10f172a20>"
      ]
     },
     "metadata": {},
     "output_type": "display_data"
    }
   ],
   "source": [
    "ndf['Stop weekday_name'].value_counts().plot.bar()"
   ]
  },
  {
   "cell_type": "code",
   "execution_count": 116,
   "metadata": {},
   "outputs": [
    {
     "data": {
      "text/plain": [
       "<matplotlib.axes._subplots.AxesSubplot at 0x10f734518>"
      ]
     },
     "execution_count": 116,
     "metadata": {},
     "output_type": "execute_result"
    },
    {
     "data": {
      "image/png": "[encoded data removed]",
      "text/plain": [
       "<matplotlib.figure.Figure at 0x10b917588>"
      ]
     },
     "metadata": {},
     "output_type": "display_data"
    }
   ],
   "source": [
    "ndf['Stop dayofyear'].value_counts().head().plot.bar()"
   ]
  },
  {
   "cell_type": "code",
   "execution_count": 117,
   "metadata": {},
   "outputs": [
    {
     "data": {
      "text/html": [
       "<div>\n",
       "<style>\n",
       "    .dataframe thead tr:only-child th {\n",
       "        text-align: right;\n",
       "    }\n",
       "\n",
       "    .dataframe thead th {\n",
       "        text-align: left;\n",
       "    }\n",
       "\n",
       "    .dataframe tbody tr th {\n",
       "        vertical-align: top;\n",
       "    }\n",
       "</style>\n",
       "<table border=\"1\" class=\"dataframe\">\n",
       "  <thead>\n",
       "    <tr style=\"text-align: right;\">\n",
       "      <th></th>\n",
       "      <th>Trip_Duration_in_min</th>\n",
       "      <th>Start Station Name</th>\n",
       "      <th>End Station Name</th>\n",
       "      <th>User Type</th>\n",
       "      <th>Birth Year</th>\n",
       "      <th>Start Month</th>\n",
       "      <th>Start Day</th>\n",
       "      <th>Start Minute</th>\n",
       "      <th>Start Week</th>\n",
       "      <th>Start Weekofyear</th>\n",
       "      <th>Start dayofyear</th>\n",
       "      <th>Start quarter</th>\n",
       "      <th>Stop Month</th>\n",
       "      <th>Stop Day</th>\n",
       "      <th>Stop Minute</th>\n",
       "      <th>Stop Weekofyear</th>\n",
       "      <th>Stop weekday</th>\n",
       "      <th>Stop dayofyear</th>\n",
       "      <th>Stop quarter</th>\n",
       "      <th>Gender</th>\n",
       "    </tr>\n",
       "  </thead>\n",
       "  <tbody>\n",
       "    <tr>\n",
       "      <th>0</th>\n",
       "      <td>6</td>\n",
       "      <td>Christ Hospital</td>\n",
       "      <td>Oakland Ave</td>\n",
       "      <td>Subscriber</td>\n",
       "      <td>1960</td>\n",
       "      <td>10</td>\n",
       "      <td>1</td>\n",
       "      <td>16</td>\n",
       "      <td>40</td>\n",
       "      <td>40</td>\n",
       "      <td>274</td>\n",
       "      <td>4</td>\n",
       "      <td>10</td>\n",
       "      <td>1</td>\n",
       "      <td>22</td>\n",
       "      <td>40</td>\n",
       "      <td>3</td>\n",
       "      <td>274</td>\n",
       "      <td>4</td>\n",
       "      <td>1</td>\n",
       "    </tr>\n",
       "    <tr>\n",
       "      <th>1</th>\n",
       "      <td>12</td>\n",
       "      <td>Oakland Ave</td>\n",
       "      <td>Christ Hospital</td>\n",
       "      <td>Subscriber</td>\n",
       "      <td>1960</td>\n",
       "      <td>10</td>\n",
       "      <td>1</td>\n",
       "      <td>27</td>\n",
       "      <td>40</td>\n",
       "      <td>40</td>\n",
       "      <td>274</td>\n",
       "      <td>4</td>\n",
       "      <td>10</td>\n",
       "      <td>1</td>\n",
       "      <td>39</td>\n",
       "      <td>40</td>\n",
       "      <td>3</td>\n",
       "      <td>274</td>\n",
       "      <td>4</td>\n",
       "      <td>1</td>\n",
       "    </tr>\n",
       "    <tr>\n",
       "      <th>2</th>\n",
       "      <td>45</td>\n",
       "      <td>Lincoln Park</td>\n",
       "      <td>Lincoln Park</td>\n",
       "      <td>Subscriber</td>\n",
       "      <td>1983</td>\n",
       "      <td>10</td>\n",
       "      <td>1</td>\n",
       "      <td>32</td>\n",
       "      <td>40</td>\n",
       "      <td>40</td>\n",
       "      <td>274</td>\n",
       "      <td>4</td>\n",
       "      <td>10</td>\n",
       "      <td>1</td>\n",
       "      <td>18</td>\n",
       "      <td>40</td>\n",
       "      <td>3</td>\n",
       "      <td>274</td>\n",
       "      <td>4</td>\n",
       "      <td>1</td>\n",
       "    </tr>\n",
       "    <tr>\n",
       "      <th>3</th>\n",
       "      <td>5</td>\n",
       "      <td>Newport Pkwy</td>\n",
       "      <td>Warren St</td>\n",
       "      <td>Subscriber</td>\n",
       "      <td>1975</td>\n",
       "      <td>10</td>\n",
       "      <td>1</td>\n",
       "      <td>34</td>\n",
       "      <td>40</td>\n",
       "      <td>40</td>\n",
       "      <td>274</td>\n",
       "      <td>4</td>\n",
       "      <td>10</td>\n",
       "      <td>1</td>\n",
       "      <td>39</td>\n",
       "      <td>40</td>\n",
       "      <td>3</td>\n",
       "      <td>274</td>\n",
       "      <td>4</td>\n",
       "      <td>1</td>\n",
       "    </tr>\n",
       "    <tr>\n",
       "      <th>4</th>\n",
       "      <td>9</td>\n",
       "      <td>Exchange Place</td>\n",
       "      <td>Liberty Light Rail</td>\n",
       "      <td>Customer</td>\n",
       "      <td>1984</td>\n",
       "      <td>10</td>\n",
       "      <td>1</td>\n",
       "      <td>40</td>\n",
       "      <td>40</td>\n",
       "      <td>40</td>\n",
       "      <td>274</td>\n",
       "      <td>4</td>\n",
       "      <td>10</td>\n",
       "      <td>1</td>\n",
       "      <td>49</td>\n",
       "      <td>40</td>\n",
       "      <td>3</td>\n",
       "      <td>274</td>\n",
       "      <td>4</td>\n",
       "      <td>0</td>\n",
       "    </tr>\n",
       "  </tbody>\n",
       "</table>\n",
       "</div>"
      ],
      "text/plain": [
       "   Trip_Duration_in_min Start Station Name    End Station Name   User Type  \\\n",
       "0                     6    Christ Hospital         Oakland Ave  Subscriber   \n",
       "1                    12        Oakland Ave     Christ Hospital  Subscriber   \n",
       "2                    45       Lincoln Park        Lincoln Park  Subscriber   \n",
       "3                     5       Newport Pkwy           Warren St  Subscriber   \n",
       "4                     9     Exchange Place  Liberty Light Rail    Customer   \n",
       "\n",
       "   Birth Year  Start Month  Start Day  Start Minute  Start Week  \\\n",
       "0        1960           10          1            16          40   \n",
       "1        1960           10          1            27          40   \n",
       "2        1983           10          1            32          40   \n",
       "3        1975           10          1            34          40   \n",
       "4        1984           10          1            40          40   \n",
       "\n",
       "   Start Weekofyear  Start dayofyear  Start quarter  Stop Month  Stop Day  \\\n",
       "0                40              274              4          10         1   \n",
       "1                40              274              4          10         1   \n",
       "2                40              274              4          10         1   \n",
       "3                40              274              4          10         1   \n",
       "4                40              274              4          10         1   \n",
       "\n",
       "   Stop Minute  Stop Weekofyear  Stop weekday  Stop dayofyear  Stop quarter  \\\n",
       "0           22               40             3             274             4   \n",
       "1           39               40             3             274             4   \n",
       "2           18               40             3             274             4   \n",
       "3           39               40             3             274             4   \n",
       "4           49               40             3             274             4   \n",
       "\n",
       "  Gender  \n",
       "0      1  \n",
       "1      1  \n",
       "2      1  \n",
       "3      1  \n",
       "4      0  "
      ]
     },
     "execution_count": 117,
     "metadata": {},
     "output_type": "execute_result"
    }
   ],
   "source": [
    "\n",
    "cols = ndf.columns\n",
    "data = ndf[['Trip_Duration_in_min', 'Start Station Name',\n",
    "       'End Station Name', 'User Type', 'Birth Year', \n",
    "      'Start Month', 'Start Day', 'Start Minute',\n",
    "       'Start Week', 'Start Weekofyear', \n",
    "       'Start dayofyear', 'Start quarter', 'Stop Month',\n",
    "       'Stop Day', 'Stop Minute',\n",
    "       'Stop Weekofyear', 'Stop weekday', 'Stop dayofyear',\n",
    "        'Stop quarter', 'Gender']]\n",
    "data.head()"
   ]
  },
  {
   "cell_type": "code",
   "execution_count": 118,
   "metadata": {},
   "outputs": [
    {
     "name": "stdout",
     "output_type": "stream",
     "text": [
      "<class 'pandas.core.frame.DataFrame'>\n",
      "RangeIndex: 735502 entries, 0 to 735501\n",
      "Data columns (total 20 columns):\n",
      "Trip_Duration_in_min    735502 non-null int64\n",
      "Start Station Name      735502 non-null category\n",
      "End Station Name        735502 non-null category\n",
      "User Type               735502 non-null category\n",
      "Birth Year              735502 non-null int64\n",
      "Start Month             735502 non-null int64\n",
      "Start Day               735502 non-null int64\n",
      "Start Minute            735502 non-null int64\n",
      "Start Week              735502 non-null int64\n",
      "Start Weekofyear        735502 non-null int64\n",
      "Start dayofyear         735502 non-null int64\n",
      "Start quarter           735502 non-null int64\n",
      "Stop Month              735502 non-null int64\n",
      "Stop Day                735502 non-null int64\n",
      "Stop Minute             735502 non-null int64\n",
      "Stop Weekofyear         735502 non-null int64\n",
      "Stop weekday            735502 non-null int64\n",
      "Stop dayofyear          735502 non-null int64\n",
      "Stop quarter            735502 non-null int64\n",
      "Gender                  735502 non-null category\n",
      "dtypes: category(4), int64(16)\n",
      "memory usage: 92.6 MB\n"
     ]
    }
   ],
   "source": [
    "data.info()"
   ]
  },
  {
   "cell_type": "code",
   "execution_count": 119,
   "metadata": {
    "collapsed": true
   },
   "outputs": [],
   "source": [
    "from sklearn.preprocessing import LabelEncoder\n",
    "le = LabelEncoder()"
   ]
  },
  {
   "cell_type": "code",
   "execution_count": 120,
   "metadata": {
    "collapsed": true
   },
   "outputs": [],
   "source": [
    "data = data.apply(le.fit_transform)"
   ]
  },
  {
   "cell_type": "code",
   "execution_count": 121,
   "metadata": {},
   "outputs": [
    {
     "data": {
      "text/html": [
       "<div>\n",
       "<style>\n",
       "    .dataframe thead tr:only-child th {\n",
       "        text-align: right;\n",
       "    }\n",
       "\n",
       "    .dataframe thead th {\n",
       "        text-align: left;\n",
       "    }\n",
       "\n",
       "    .dataframe tbody tr th {\n",
       "        vertical-align: top;\n",
       "    }\n",
       "</style>\n",
       "<table border=\"1\" class=\"dataframe\">\n",
       "  <thead>\n",
       "    <tr style=\"text-align: right;\">\n",
       "      <th></th>\n",
       "      <th>Trip_Duration_in_min</th>\n",
       "      <th>Start Station Name</th>\n",
       "      <th>End Station Name</th>\n",
       "      <th>User Type</th>\n",
       "      <th>Birth Year</th>\n",
       "      <th>Start Month</th>\n",
       "      <th>Start Day</th>\n",
       "      <th>Start Minute</th>\n",
       "      <th>Start Week</th>\n",
       "      <th>Start Weekofyear</th>\n",
       "      <th>Start dayofyear</th>\n",
       "      <th>Start quarter</th>\n",
       "      <th>Stop Month</th>\n",
       "      <th>Stop Day</th>\n",
       "      <th>Stop Minute</th>\n",
       "      <th>Stop Weekofyear</th>\n",
       "      <th>Stop weekday</th>\n",
       "      <th>Stop dayofyear</th>\n",
       "      <th>Stop quarter</th>\n",
       "      <th>Gender</th>\n",
       "    </tr>\n",
       "  </thead>\n",
       "  <tbody>\n",
       "    <tr>\n",
       "      <th>0</th>\n",
       "      <td>5</td>\n",
       "      <td>8</td>\n",
       "      <td>76</td>\n",
       "      <td>1</td>\n",
       "      <td>24</td>\n",
       "      <td>9</td>\n",
       "      <td>0</td>\n",
       "      <td>16</td>\n",
       "      <td>39</td>\n",
       "      <td>39</td>\n",
       "      <td>273</td>\n",
       "      <td>3</td>\n",
       "      <td>9</td>\n",
       "      <td>0</td>\n",
       "      <td>22</td>\n",
       "      <td>39</td>\n",
       "      <td>3</td>\n",
       "      <td>273</td>\n",
       "      <td>3</td>\n",
       "      <td>1</td>\n",
       "    </tr>\n",
       "    <tr>\n",
       "      <th>1</th>\n",
       "      <td>11</td>\n",
       "      <td>42</td>\n",
       "      <td>20</td>\n",
       "      <td>1</td>\n",
       "      <td>24</td>\n",
       "      <td>9</td>\n",
       "      <td>0</td>\n",
       "      <td>27</td>\n",
       "      <td>39</td>\n",
       "      <td>39</td>\n",
       "      <td>273</td>\n",
       "      <td>3</td>\n",
       "      <td>9</td>\n",
       "      <td>0</td>\n",
       "      <td>39</td>\n",
       "      <td>39</td>\n",
       "      <td>3</td>\n",
       "      <td>273</td>\n",
       "      <td>3</td>\n",
       "      <td>1</td>\n",
       "    </tr>\n",
       "    <tr>\n",
       "      <th>2</th>\n",
       "      <td>44</td>\n",
       "      <td>30</td>\n",
       "      <td>61</td>\n",
       "      <td>1</td>\n",
       "      <td>47</td>\n",
       "      <td>9</td>\n",
       "      <td>0</td>\n",
       "      <td>32</td>\n",
       "      <td>39</td>\n",
       "      <td>39</td>\n",
       "      <td>273</td>\n",
       "      <td>3</td>\n",
       "      <td>9</td>\n",
       "      <td>0</td>\n",
       "      <td>18</td>\n",
       "      <td>39</td>\n",
       "      <td>3</td>\n",
       "      <td>273</td>\n",
       "      <td>3</td>\n",
       "      <td>1</td>\n",
       "    </tr>\n",
       "    <tr>\n",
       "      <th>3</th>\n",
       "      <td>4</td>\n",
       "      <td>40</td>\n",
       "      <td>104</td>\n",
       "      <td>1</td>\n",
       "      <td>39</td>\n",
       "      <td>9</td>\n",
       "      <td>0</td>\n",
       "      <td>34</td>\n",
       "      <td>39</td>\n",
       "      <td>39</td>\n",
       "      <td>273</td>\n",
       "      <td>3</td>\n",
       "      <td>9</td>\n",
       "      <td>0</td>\n",
       "      <td>39</td>\n",
       "      <td>39</td>\n",
       "      <td>3</td>\n",
       "      <td>273</td>\n",
       "      <td>3</td>\n",
       "      <td>1</td>\n",
       "    </tr>\n",
       "    <tr>\n",
       "      <th>4</th>\n",
       "      <td>8</td>\n",
       "      <td>17</td>\n",
       "      <td>60</td>\n",
       "      <td>0</td>\n",
       "      <td>48</td>\n",
       "      <td>9</td>\n",
       "      <td>0</td>\n",
       "      <td>40</td>\n",
       "      <td>39</td>\n",
       "      <td>39</td>\n",
       "      <td>273</td>\n",
       "      <td>3</td>\n",
       "      <td>9</td>\n",
       "      <td>0</td>\n",
       "      <td>49</td>\n",
       "      <td>39</td>\n",
       "      <td>3</td>\n",
       "      <td>273</td>\n",
       "      <td>3</td>\n",
       "      <td>0</td>\n",
       "    </tr>\n",
       "  </tbody>\n",
       "</table>\n",
       "</div>"
      ],
      "text/plain": [
       "   Trip_Duration_in_min  Start Station Name  End Station Name  User Type  \\\n",
       "0                     5                   8                76          1   \n",
       "1                    11                  42                20          1   \n",
       "2                    44                  30                61          1   \n",
       "3                     4                  40               104          1   \n",
       "4                     8                  17                60          0   \n",
       "\n",
       "   Birth Year  Start Month  Start Day  Start Minute  Start Week  \\\n",
       "0          24            9          0            16          39   \n",
       "1          24            9          0            27          39   \n",
       "2          47            9          0            32          39   \n",
       "3          39            9          0            34          39   \n",
       "4          48            9          0            40          39   \n",
       "\n",
       "   Start Weekofyear  Start dayofyear  Start quarter  Stop Month  Stop Day  \\\n",
       "0                39              273              3           9         0   \n",
       "1                39              273              3           9         0   \n",
       "2                39              273              3           9         0   \n",
       "3                39              273              3           9         0   \n",
       "4                39              273              3           9         0   \n",
       "\n",
       "   Stop Minute  Stop Weekofyear  Stop weekday  Stop dayofyear  Stop quarter  \\\n",
       "0           22               39             3             273             3   \n",
       "1           39               39             3             273             3   \n",
       "2           18               39             3             273             3   \n",
       "3           39               39             3             273             3   \n",
       "4           49               39             3             273             3   \n",
       "\n",
       "   Gender  \n",
       "0       1  \n",
       "1       1  \n",
       "2       1  \n",
       "3       1  \n",
       "4       0  "
      ]
     },
     "execution_count": 121,
     "metadata": {},
     "output_type": "execute_result"
    }
   ],
   "source": [
    "data.head()"
   ]
  },
  {
   "cell_type": "code",
   "execution_count": 165,
   "metadata": {},
   "outputs": [
    {
     "name": "stdout",
     "output_type": "stream",
     "text": [
      "725502 10000\n"
     ]
    },
    {
     "data": {
      "text/html": [
       "<div>\n",
       "<style>\n",
       "    .dataframe thead tr:only-child th {\n",
       "        text-align: right;\n",
       "    }\n",
       "\n",
       "    .dataframe thead th {\n",
       "        text-align: left;\n",
       "    }\n",
       "\n",
       "    .dataframe tbody tr th {\n",
       "        vertical-align: top;\n",
       "    }\n",
       "</style>\n",
       "<table border=\"1\" class=\"dataframe\">\n",
       "  <thead>\n",
       "    <tr style=\"text-align: right;\">\n",
       "      <th></th>\n",
       "      <th>Trip_Duration_in_min</th>\n",
       "      <th>Start Station Name</th>\n",
       "      <th>End Station Name</th>\n",
       "      <th>User Type</th>\n",
       "      <th>Birth Year</th>\n",
       "      <th>Start Month</th>\n",
       "      <th>Start Day</th>\n",
       "      <th>Start Minute</th>\n",
       "      <th>Start Week</th>\n",
       "      <th>Start Weekofyear</th>\n",
       "      <th>Start dayofyear</th>\n",
       "      <th>Start quarter</th>\n",
       "      <th>Stop Month</th>\n",
       "      <th>Stop Day</th>\n",
       "      <th>Stop Minute</th>\n",
       "      <th>Stop Weekofyear</th>\n",
       "      <th>Stop weekday</th>\n",
       "      <th>Stop dayofyear</th>\n",
       "      <th>Stop quarter</th>\n",
       "    </tr>\n",
       "  </thead>\n",
       "  <tbody>\n",
       "    <tr>\n",
       "      <th>0</th>\n",
       "      <td>5</td>\n",
       "      <td>8</td>\n",
       "      <td>76</td>\n",
       "      <td>1</td>\n",
       "      <td>24</td>\n",
       "      <td>9</td>\n",
       "      <td>0</td>\n",
       "      <td>16</td>\n",
       "      <td>39</td>\n",
       "      <td>39</td>\n",
       "      <td>273</td>\n",
       "      <td>3</td>\n",
       "      <td>9</td>\n",
       "      <td>0</td>\n",
       "      <td>22</td>\n",
       "      <td>39</td>\n",
       "      <td>3</td>\n",
       "      <td>273</td>\n",
       "      <td>3</td>\n",
       "    </tr>\n",
       "    <tr>\n",
       "      <th>1</th>\n",
       "      <td>11</td>\n",
       "      <td>42</td>\n",
       "      <td>20</td>\n",
       "      <td>1</td>\n",
       "      <td>24</td>\n",
       "      <td>9</td>\n",
       "      <td>0</td>\n",
       "      <td>27</td>\n",
       "      <td>39</td>\n",
       "      <td>39</td>\n",
       "      <td>273</td>\n",
       "      <td>3</td>\n",
       "      <td>9</td>\n",
       "      <td>0</td>\n",
       "      <td>39</td>\n",
       "      <td>39</td>\n",
       "      <td>3</td>\n",
       "      <td>273</td>\n",
       "      <td>3</td>\n",
       "    </tr>\n",
       "    <tr>\n",
       "      <th>2</th>\n",
       "      <td>44</td>\n",
       "      <td>30</td>\n",
       "      <td>61</td>\n",
       "      <td>1</td>\n",
       "      <td>47</td>\n",
       "      <td>9</td>\n",
       "      <td>0</td>\n",
       "      <td>32</td>\n",
       "      <td>39</td>\n",
       "      <td>39</td>\n",
       "      <td>273</td>\n",
       "      <td>3</td>\n",
       "      <td>9</td>\n",
       "      <td>0</td>\n",
       "      <td>18</td>\n",
       "      <td>39</td>\n",
       "      <td>3</td>\n",
       "      <td>273</td>\n",
       "      <td>3</td>\n",
       "    </tr>\n",
       "    <tr>\n",
       "      <th>3</th>\n",
       "      <td>4</td>\n",
       "      <td>40</td>\n",
       "      <td>104</td>\n",
       "      <td>1</td>\n",
       "      <td>39</td>\n",
       "      <td>9</td>\n",
       "      <td>0</td>\n",
       "      <td>34</td>\n",
       "      <td>39</td>\n",
       "      <td>39</td>\n",
       "      <td>273</td>\n",
       "      <td>3</td>\n",
       "      <td>9</td>\n",
       "      <td>0</td>\n",
       "      <td>39</td>\n",
       "      <td>39</td>\n",
       "      <td>3</td>\n",
       "      <td>273</td>\n",
       "      <td>3</td>\n",
       "    </tr>\n",
       "    <tr>\n",
       "      <th>4</th>\n",
       "      <td>8</td>\n",
       "      <td>17</td>\n",
       "      <td>60</td>\n",
       "      <td>0</td>\n",
       "      <td>48</td>\n",
       "      <td>9</td>\n",
       "      <td>0</td>\n",
       "      <td>40</td>\n",
       "      <td>39</td>\n",
       "      <td>39</td>\n",
       "      <td>273</td>\n",
       "      <td>3</td>\n",
       "      <td>9</td>\n",
       "      <td>0</td>\n",
       "      <td>49</td>\n",
       "      <td>39</td>\n",
       "      <td>3</td>\n",
       "      <td>273</td>\n",
       "      <td>3</td>\n",
       "    </tr>\n",
       "  </tbody>\n",
       "</table>\n",
       "</div>"
      ],
      "text/plain": [
       "   Trip_Duration_in_min  Start Station Name  End Station Name  User Type  \\\n",
       "0                     5                   8                76          1   \n",
       "1                    11                  42                20          1   \n",
       "2                    44                  30                61          1   \n",
       "3                     4                  40               104          1   \n",
       "4                     8                  17                60          0   \n",
       "\n",
       "   Birth Year  Start Month  Start Day  Start Minute  Start Week  \\\n",
       "0          24            9          0            16          39   \n",
       "1          24            9          0            27          39   \n",
       "2          47            9          0            32          39   \n",
       "3          39            9          0            34          39   \n",
       "4          48            9          0            40          39   \n",
       "\n",
       "   Start Weekofyear  Start dayofyear  Start quarter  Stop Month  Stop Day  \\\n",
       "0                39              273              3           9         0   \n",
       "1                39              273              3           9         0   \n",
       "2                39              273              3           9         0   \n",
       "3                39              273              3           9         0   \n",
       "4                39              273              3           9         0   \n",
       "\n",
       "   Stop Minute  Stop Weekofyear  Stop weekday  Stop dayofyear  Stop quarter  \n",
       "0           22               39             3             273             3  \n",
       "1           39               39             3             273             3  \n",
       "2           18               39             3             273             3  \n",
       "3           39               39             3             273             3  \n",
       "4           49               39             3             273             3  "
      ]
     },
     "execution_count": 165,
     "metadata": {},
     "output_type": "execute_result"
    }
   ],
   "source": [
    "X = data.iloc[:-10000,:-1]\n",
    "test_X = data.iloc[-10000:,:-1]\n",
    "print(len(X), len(test_X))\n",
    "X.head()"
   ]
  },
  {
   "cell_type": "code",
   "execution_count": 151,
   "metadata": {},
   "outputs": [
    {
     "name": "stdout",
     "output_type": "stream",
     "text": [
      "725502 10000\n"
     ]
    },
    {
     "data": {
      "text/html": [
       "<div>\n",
       "<style>\n",
       "    .dataframe thead tr:only-child th {\n",
       "        text-align: right;\n",
       "    }\n",
       "\n",
       "    .dataframe thead th {\n",
       "        text-align: left;\n",
       "    }\n",
       "\n",
       "    .dataframe tbody tr th {\n",
       "        vertical-align: top;\n",
       "    }\n",
       "</style>\n",
       "<table border=\"1\" class=\"dataframe\">\n",
       "  <thead>\n",
       "    <tr style=\"text-align: right;\">\n",
       "      <th></th>\n",
       "      <th>Gender</th>\n",
       "    </tr>\n",
       "  </thead>\n",
       "  <tbody>\n",
       "    <tr>\n",
       "      <th>0</th>\n",
       "      <td>1</td>\n",
       "    </tr>\n",
       "    <tr>\n",
       "      <th>1</th>\n",
       "      <td>1</td>\n",
       "    </tr>\n",
       "    <tr>\n",
       "      <th>2</th>\n",
       "      <td>1</td>\n",
       "    </tr>\n",
       "    <tr>\n",
       "      <th>3</th>\n",
       "      <td>1</td>\n",
       "    </tr>\n",
       "    <tr>\n",
       "      <th>4</th>\n",
       "      <td>0</td>\n",
       "    </tr>\n",
       "  </tbody>\n",
       "</table>\n",
       "</div>"
      ],
      "text/plain": [
       "   Gender\n",
       "0       1\n",
       "1       1\n",
       "2       1\n",
       "3       1\n",
       "4       0"
      ]
     },
     "execution_count": 151,
     "metadata": {},
     "output_type": "execute_result"
    }
   ],
   "source": [
    "y = data.iloc[:-10000,-1:]\n",
    "test_y = data.iloc[-10000:,-1:]\n",
    "print(len(y),len(test_y))\n",
    "y.head()"
   ]
  },
  {
   "cell_type": "code",
   "execution_count": 152,
   "metadata": {},
   "outputs": [
    {
     "name": "stdout",
     "output_type": "stream",
     "text": [
      "(544126, 19) (181376, 19) (544126, 1) (181376, 1)\n"
     ]
    }
   ],
   "source": [
    "from sklearn.model_selection import train_test_split, cross_val_score\n",
    "\n",
    "X_train, X_test, y_train, y_test = train_test_split(X, y)\n",
    "print(X_train.shape, X_test.shape, y_train.shape, y_test.shape)"
   ]
  },
  {
   "cell_type": "code",
   "execution_count": 153,
   "metadata": {},
   "outputs": [],
   "source": [
    "from sklearn.tree import DecisionTreeClassifier\n",
    "clf = DecisionTreeClassifier()"
   ]
  },
  {
   "cell_type": "code",
   "execution_count": 154,
   "metadata": {
    "collapsed": true
   },
   "outputs": [],
   "source": [
    "clf.fit(X_train, y_train)\n",
    "accuracy = clf.score(X_test, y_test)"
   ]
  },
  {
   "cell_type": "code",
   "execution_count": 155,
   "metadata": {},
   "outputs": [
    {
     "name": "stdout",
     "output_type": "stream",
     "text": [
      "95.6763849682\n"
     ]
    }
   ],
   "source": [
    "print(accuracy*100)"
   ]
  },
  {
   "cell_type": "code",
   "execution_count": 156,
   "metadata": {},
   "outputs": [],
   "source": [
    "from sklearn.model_selection import KFold\n",
    "kf = KFold(n_splits=3,random_state=2)\n",
    "model = DecisionTreeClassifier()"
   ]
  },
  {
   "cell_type": "code",
   "execution_count": 157,
   "metadata": {},
   "outputs": [],
   "source": [
    "results = cross_val_score(model, X, y, cv=kf)"
   ]
  },
  {
   "cell_type": "code",
   "execution_count": 159,
   "metadata": {},
   "outputs": [
    {
     "name": "stdout",
     "output_type": "stream",
     "text": [
      "99.6363896998\n"
     ]
    }
   ],
   "source": [
    "print(results.mean()*100)"
   ]
  },
  {
   "cell_type": "code",
   "execution_count": 168,
   "metadata": {},
   "outputs": [],
   "source": [
    "prediction = clf.predict(test_X)"
   ]
  },
  {
   "cell_type": "code",
   "execution_count": 169,
   "metadata": {
    "collapsed": true
   },
   "outputs": [],
   "source": [
    "pred_t = le.transform(prediction)"
   ]
  },
  {
   "cell_type": "code",
   "execution_count": 188,
   "metadata": {},
   "outputs": [
    {
     "data": {
      "text/plain": [
       "True     9964\n",
       "False      36\n",
       "Name: Gender, dtype: int64"
      ]
     },
     "execution_count": 188,
     "metadata": {},
     "output_type": "execute_result"
    }
   ],
   "source": [
    "acc = (pred_t==test_y['Gender']).value_counts()\n",
    "acc"
   ]
  },
  {
   "cell_type": "code",
   "execution_count": 199,
   "metadata": {},
   "outputs": [
    {
     "name": "stdout",
     "output_type": "stream",
     "text": [
      "Accuracy on Unseen data 99.640000 %\n"
     ]
    }
   ],
   "source": [
    "print('Accuracy on Unseen data %f' %(acc[1]/10000*100)+' %')"
   ]
  },
  {
   "cell_type": "code",
   "execution_count": null,
   "metadata": {
    "collapsed": true
   },
   "outputs": [],
   "source": []
  }
 ],
 "metadata": {
  "kernelspec": {
   "display_name": "Python 3",
   "language": "python",
   "name": "python3"
  },
  "language_info": {
   "codemirror_mode": {
    "name": "ipython",
    "version": 3
   },
   "file_extension": ".py",
   "mimetype": "text/x-python",
   "name": "python",
   "nbconvert_exporter": "python",
   "pygments_lexer": "ipython3",
   "version": "3.6.1"
  }
 },
 "nbformat": 4,
 "nbformat_minor": 2
}
